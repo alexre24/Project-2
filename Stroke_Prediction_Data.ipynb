{
  "nbformat": 4,
  "nbformat_minor": 0,
  "metadata": {
    "colab": {
      "provenance": [],
      "authorship_tag": "ABX9TyOGnq8m2HFgxDbGRMvkYRT6",
      "include_colab_link": true
    },
    "kernelspec": {
      "name": "python3",
      "display_name": "Python 3"
    },
    "language_info": {
      "name": "python"
    }
  },
  "cells": [
    {
      "cell_type": "markdown",
      "metadata": {
        "id": "view-in-github",
        "colab_type": "text"
      },
      "source": [
        "<a href=\"https://colab.research.google.com/github/alexre24/Project-2/blob/main/Stroke_Prediction_Data.ipynb\" target=\"_parent\"><img src=\"https://colab.research.google.com/assets/colab-badge.svg\" alt=\"Open In Colab\"/></a>"
      ]
    },
    {
      "cell_type": "code",
      "execution_count": null,
      "metadata": {
        "colab": {
          "base_uri": "https://localhost:8080/"
        },
        "id": "fyrqB3AKWS9E",
        "outputId": "9f9eb34f-888c-480f-8ccd-2dc31cd6072f"
      },
      "outputs": [
        {
          "output_type": "stream",
          "name": "stdout",
          "text": [
            "Drive already mounted at /content/drive; to attempt to forcibly remount, call drive.mount(\"/content/drive\", force_remount=True).\n"
          ]
        }
      ],
      "source": [
        "from google.colab import drive\n",
        "drive.mount('/content/drive')"
      ]
    },
    {
      "cell_type": "code",
      "source": [
        "import matplotlib.pyplot as plt \n",
        "import seaborn as sns\n",
        "import pandas as pd \n",
        "import numpy as np\n",
        "import sys\n",
        "from sklearn.model_selection import train_test_split "
      ],
      "metadata": {
        "id": "sR9EfBKsWdqs"
      },
      "execution_count": 34,
      "outputs": []
    },
    {
      "cell_type": "markdown",
      "source": [
        "## Loading Data"
      ],
      "metadata": {
        "id": "OjHJT5K8WjjD"
      }
    },
    {
      "cell_type": "code",
      "source": [
        "path = '/content/drive/MyDrive/Coding Dojo/07 Week 7: Classification/healthcare-dataset-stroke-data 2.csv'\n",
        "stroke_df = pd.read_csv(path)\n",
        "stroke_df.head()"
      ],
      "metadata": {
        "colab": {
          "base_uri": "https://localhost:8080/",
          "height": 206
        },
        "id": "e5WjJVayWhsW",
        "outputId": "4719509b-ea50-4bd3-8119-478c50191aa3"
      },
      "execution_count": null,
      "outputs": [
        {
          "output_type": "execute_result",
          "data": {
            "text/plain": [
              "      id  gender   age  hypertension  heart_disease ever_married  \\\n",
              "0   9046    Male  67.0             0              1          Yes   \n",
              "1  51676  Female  61.0             0              0          Yes   \n",
              "2  31112    Male  80.0             0              1          Yes   \n",
              "3  60182  Female  49.0             0              0          Yes   \n",
              "4   1665  Female  79.0             1              0          Yes   \n",
              "\n",
              "       work_type Residence_type  avg_glucose_level   bmi   smoking_status  \\\n",
              "0        Private          Urban             228.69  36.6  formerly smoked   \n",
              "1  Self-employed          Rural             202.21   NaN     never smoked   \n",
              "2        Private          Rural             105.92  32.5     never smoked   \n",
              "3        Private          Urban             171.23  34.4           smokes   \n",
              "4  Self-employed          Rural             174.12  24.0     never smoked   \n",
              "\n",
              "   stroke  \n",
              "0       1  \n",
              "1       1  \n",
              "2       1  \n",
              "3       1  \n",
              "4       1  "
            ],
            "text/html": [
              "\n",
              "  <div id=\"df-03a528d5-1c5b-425f-a38c-200d5b049ef4\">\n",
              "    <div class=\"colab-df-container\">\n",
              "      <div>\n",
              "<style scoped>\n",
              "    .dataframe tbody tr th:only-of-type {\n",
              "        vertical-align: middle;\n",
              "    }\n",
              "\n",
              "    .dataframe tbody tr th {\n",
              "        vertical-align: top;\n",
              "    }\n",
              "\n",
              "    .dataframe thead th {\n",
              "        text-align: right;\n",
              "    }\n",
              "</style>\n",
              "<table border=\"1\" class=\"dataframe\">\n",
              "  <thead>\n",
              "    <tr style=\"text-align: right;\">\n",
              "      <th></th>\n",
              "      <th>id</th>\n",
              "      <th>gender</th>\n",
              "      <th>age</th>\n",
              "      <th>hypertension</th>\n",
              "      <th>heart_disease</th>\n",
              "      <th>ever_married</th>\n",
              "      <th>work_type</th>\n",
              "      <th>Residence_type</th>\n",
              "      <th>avg_glucose_level</th>\n",
              "      <th>bmi</th>\n",
              "      <th>smoking_status</th>\n",
              "      <th>stroke</th>\n",
              "    </tr>\n",
              "  </thead>\n",
              "  <tbody>\n",
              "    <tr>\n",
              "      <th>0</th>\n",
              "      <td>9046</td>\n",
              "      <td>Male</td>\n",
              "      <td>67.0</td>\n",
              "      <td>0</td>\n",
              "      <td>1</td>\n",
              "      <td>Yes</td>\n",
              "      <td>Private</td>\n",
              "      <td>Urban</td>\n",
              "      <td>228.69</td>\n",
              "      <td>36.6</td>\n",
              "      <td>formerly smoked</td>\n",
              "      <td>1</td>\n",
              "    </tr>\n",
              "    <tr>\n",
              "      <th>1</th>\n",
              "      <td>51676</td>\n",
              "      <td>Female</td>\n",
              "      <td>61.0</td>\n",
              "      <td>0</td>\n",
              "      <td>0</td>\n",
              "      <td>Yes</td>\n",
              "      <td>Self-employed</td>\n",
              "      <td>Rural</td>\n",
              "      <td>202.21</td>\n",
              "      <td>NaN</td>\n",
              "      <td>never smoked</td>\n",
              "      <td>1</td>\n",
              "    </tr>\n",
              "    <tr>\n",
              "      <th>2</th>\n",
              "      <td>31112</td>\n",
              "      <td>Male</td>\n",
              "      <td>80.0</td>\n",
              "      <td>0</td>\n",
              "      <td>1</td>\n",
              "      <td>Yes</td>\n",
              "      <td>Private</td>\n",
              "      <td>Rural</td>\n",
              "      <td>105.92</td>\n",
              "      <td>32.5</td>\n",
              "      <td>never smoked</td>\n",
              "      <td>1</td>\n",
              "    </tr>\n",
              "    <tr>\n",
              "      <th>3</th>\n",
              "      <td>60182</td>\n",
              "      <td>Female</td>\n",
              "      <td>49.0</td>\n",
              "      <td>0</td>\n",
              "      <td>0</td>\n",
              "      <td>Yes</td>\n",
              "      <td>Private</td>\n",
              "      <td>Urban</td>\n",
              "      <td>171.23</td>\n",
              "      <td>34.4</td>\n",
              "      <td>smokes</td>\n",
              "      <td>1</td>\n",
              "    </tr>\n",
              "    <tr>\n",
              "      <th>4</th>\n",
              "      <td>1665</td>\n",
              "      <td>Female</td>\n",
              "      <td>79.0</td>\n",
              "      <td>1</td>\n",
              "      <td>0</td>\n",
              "      <td>Yes</td>\n",
              "      <td>Self-employed</td>\n",
              "      <td>Rural</td>\n",
              "      <td>174.12</td>\n",
              "      <td>24.0</td>\n",
              "      <td>never smoked</td>\n",
              "      <td>1</td>\n",
              "    </tr>\n",
              "  </tbody>\n",
              "</table>\n",
              "</div>\n",
              "      <button class=\"colab-df-convert\" onclick=\"convertToInteractive('df-03a528d5-1c5b-425f-a38c-200d5b049ef4')\"\n",
              "              title=\"Convert this dataframe to an interactive table.\"\n",
              "              style=\"display:none;\">\n",
              "        \n",
              "  <svg xmlns=\"http://www.w3.org/2000/svg\" height=\"24px\"viewBox=\"0 0 24 24\"\n",
              "       width=\"24px\">\n",
              "    <path d=\"M0 0h24v24H0V0z\" fill=\"none\"/>\n",
              "    <path d=\"M18.56 5.44l.94 2.06.94-2.06 2.06-.94-2.06-.94-.94-2.06-.94 2.06-2.06.94zm-11 1L8.5 8.5l.94-2.06 2.06-.94-2.06-.94L8.5 2.5l-.94 2.06-2.06.94zm10 10l.94 2.06.94-2.06 2.06-.94-2.06-.94-.94-2.06-.94 2.06-2.06.94z\"/><path d=\"M17.41 7.96l-1.37-1.37c-.4-.4-.92-.59-1.43-.59-.52 0-1.04.2-1.43.59L10.3 9.45l-7.72 7.72c-.78.78-.78 2.05 0 2.83L4 21.41c.39.39.9.59 1.41.59.51 0 1.02-.2 1.41-.59l7.78-7.78 2.81-2.81c.8-.78.8-2.07 0-2.86zM5.41 20L4 18.59l7.72-7.72 1.47 1.35L5.41 20z\"/>\n",
              "  </svg>\n",
              "      </button>\n",
              "      \n",
              "  <style>\n",
              "    .colab-df-container {\n",
              "      display:flex;\n",
              "      flex-wrap:wrap;\n",
              "      gap: 12px;\n",
              "    }\n",
              "\n",
              "    .colab-df-convert {\n",
              "      background-color: #E8F0FE;\n",
              "      border: none;\n",
              "      border-radius: 50%;\n",
              "      cursor: pointer;\n",
              "      display: none;\n",
              "      fill: #1967D2;\n",
              "      height: 32px;\n",
              "      padding: 0 0 0 0;\n",
              "      width: 32px;\n",
              "    }\n",
              "\n",
              "    .colab-df-convert:hover {\n",
              "      background-color: #E2EBFA;\n",
              "      box-shadow: 0px 1px 2px rgba(60, 64, 67, 0.3), 0px 1px 3px 1px rgba(60, 64, 67, 0.15);\n",
              "      fill: #174EA6;\n",
              "    }\n",
              "\n",
              "    [theme=dark] .colab-df-convert {\n",
              "      background-color: #3B4455;\n",
              "      fill: #D2E3FC;\n",
              "    }\n",
              "\n",
              "    [theme=dark] .colab-df-convert:hover {\n",
              "      background-color: #434B5C;\n",
              "      box-shadow: 0px 1px 3px 1px rgba(0, 0, 0, 0.15);\n",
              "      filter: drop-shadow(0px 1px 2px rgba(0, 0, 0, 0.3));\n",
              "      fill: #FFFFFF;\n",
              "    }\n",
              "  </style>\n",
              "\n",
              "      <script>\n",
              "        const buttonEl =\n",
              "          document.querySelector('#df-03a528d5-1c5b-425f-a38c-200d5b049ef4 button.colab-df-convert');\n",
              "        buttonEl.style.display =\n",
              "          google.colab.kernel.accessAllowed ? 'block' : 'none';\n",
              "\n",
              "        async function convertToInteractive(key) {\n",
              "          const element = document.querySelector('#df-03a528d5-1c5b-425f-a38c-200d5b049ef4');\n",
              "          const dataTable =\n",
              "            await google.colab.kernel.invokeFunction('convertToInteractive',\n",
              "                                                     [key], {});\n",
              "          if (!dataTable) return;\n",
              "\n",
              "          const docLinkHtml = 'Like what you see? Visit the ' +\n",
              "            '<a target=\"_blank\" href=https://colab.research.google.com/notebooks/data_table.ipynb>data table notebook</a>'\n",
              "            + ' to learn more about interactive tables.';\n",
              "          element.innerHTML = '';\n",
              "          dataTable['output_type'] = 'display_data';\n",
              "          await google.colab.output.renderOutput(dataTable, element);\n",
              "          const docLink = document.createElement('div');\n",
              "          docLink.innerHTML = docLinkHtml;\n",
              "          element.appendChild(docLink);\n",
              "        }\n",
              "      </script>\n",
              "    </div>\n",
              "  </div>\n",
              "  "
            ]
          },
          "metadata": {},
          "execution_count": 9
        }
      ]
    },
    {
      "cell_type": "markdown",
      "source": [
        "## Data Cleaning"
      ],
      "metadata": {
        "id": "FEmw5PZRWrep"
      }
    },
    {
      "cell_type": "code",
      "source": [
        "stroke_df.info()"
      ],
      "metadata": {
        "colab": {
          "base_uri": "https://localhost:8080/"
        },
        "id": "aBihHObHWtTD",
        "outputId": "1f7683cb-c946-4a4a-87b6-2589340555e4"
      },
      "execution_count": null,
      "outputs": [
        {
          "output_type": "stream",
          "name": "stdout",
          "text": [
            "<class 'pandas.core.frame.DataFrame'>\n",
            "RangeIndex: 5110 entries, 0 to 5109\n",
            "Data columns (total 12 columns):\n",
            " #   Column             Non-Null Count  Dtype  \n",
            "---  ------             --------------  -----  \n",
            " 0   id                 5110 non-null   int64  \n",
            " 1   gender             5110 non-null   object \n",
            " 2   age                5110 non-null   float64\n",
            " 3   hypertension       5110 non-null   int64  \n",
            " 4   heart_disease      5110 non-null   int64  \n",
            " 5   ever_married       5110 non-null   object \n",
            " 6   work_type          5110 non-null   object \n",
            " 7   Residence_type     5110 non-null   object \n",
            " 8   avg_glucose_level  5110 non-null   float64\n",
            " 9   bmi                4909 non-null   float64\n",
            " 10  smoking_status     5110 non-null   object \n",
            " 11  stroke             5110 non-null   int64  \n",
            "dtypes: float64(3), int64(4), object(5)\n",
            "memory usage: 479.2+ KB\n"
          ]
        }
      ]
    },
    {
      "cell_type": "markdown",
      "source": [
        "- There are 12 columns and 5110 rows\n",
        "- The bmi column is missing data, which will have to be dealt with using Simple Imputer"
      ],
      "metadata": {
        "id": "3YxmpZJXWvpF"
      }
    },
    {
      "cell_type": "code",
      "source": [
        "#Dropping unnecessary columns\n",
        "stroke_df = stroke_df.drop(columns = 'id')"
      ],
      "metadata": {
        "id": "f9v-Iy30o1_2"
      },
      "execution_count": null,
      "outputs": []
    },
    {
      "cell_type": "code",
      "source": [
        "#Checking for missing values\n",
        "print(f'There are {stroke_df.isna().sum().sum()} missing values.')"
      ],
      "metadata": {
        "colab": {
          "base_uri": "https://localhost:8080/"
        },
        "id": "4mwiaBiSXKjX",
        "outputId": "984f864f-0b92-48d0-f119-2767ab3e63b5"
      },
      "execution_count": null,
      "outputs": [
        {
          "output_type": "stream",
          "name": "stdout",
          "text": [
            "There are 201 missing values.\n"
          ]
        }
      ]
    },
    {
      "cell_type": "code",
      "source": [
        "# Getting the balance of data for the target values\n",
        "stroke_df['stroke'].value_counts(normalize = True)"
      ],
      "metadata": {
        "colab": {
          "base_uri": "https://localhost:8080/"
        },
        "id": "ms0gVu_ZW48b",
        "outputId": "fa681e13-f985-481a-b223-7d20d2cfe4ee"
      },
      "execution_count": null,
      "outputs": [
        {
          "output_type": "execute_result",
          "data": {
            "text/plain": [
              "0    0.951272\n",
              "1    0.048728\n",
              "Name: stroke, dtype: float64"
            ]
          },
          "metadata": {},
          "execution_count": 13
        }
      ]
    },
    {
      "cell_type": "markdown",
      "source": [
        "- This data is extremely unbalanced- 95% of data points are in the 0 class"
      ],
      "metadata": {
        "id": "U5jLtkmQXDxN"
      }
    },
    {
      "cell_type": "code",
      "source": [
        "#Check for duplicates\n",
        "print(f'There are {stroke_df.duplicated().sum()} duplicates.')"
      ],
      "metadata": {
        "colab": {
          "base_uri": "https://localhost:8080/"
        },
        "id": "jz338TrYnJxM",
        "outputId": "f90dddd0-4b0e-4efe-a85e-701e288a588a"
      },
      "execution_count": null,
      "outputs": [
        {
          "output_type": "stream",
          "name": "stdout",
          "text": [
            "There are 0 duplicates.\n"
          ]
        }
      ]
    },
    {
      "cell_type": "code",
      "source": [
        "#Check the data types of each column\n",
        "stroke_df.dtypes"
      ],
      "metadata": {
        "colab": {
          "base_uri": "https://localhost:8080/"
        },
        "id": "hv5ItQ1HnV9x",
        "outputId": "6b59fd54-1608-4046-8f1d-e4261561c6db"
      },
      "execution_count": null,
      "outputs": [
        {
          "output_type": "execute_result",
          "data": {
            "text/plain": [
              "gender                object\n",
              "age                  float64\n",
              "hypertension           int64\n",
              "heart_disease          int64\n",
              "ever_married          object\n",
              "work_type             object\n",
              "Residence_type        object\n",
              "avg_glucose_level    float64\n",
              "bmi                  float64\n",
              "smoking_status        object\n",
              "stroke                 int64\n",
              "dtype: object"
            ]
          },
          "metadata": {},
          "execution_count": 15
        }
      ]
    },
    {
      "cell_type": "code",
      "source": [
        "#Check for inconsistent values\n",
        "stroke_df['gender'].value_counts()"
      ],
      "metadata": {
        "colab": {
          "base_uri": "https://localhost:8080/"
        },
        "id": "Gk9cT4Nrnpia",
        "outputId": "672f1c26-89f3-4913-91a7-6f038f8f8c3a"
      },
      "execution_count": null,
      "outputs": [
        {
          "output_type": "execute_result",
          "data": {
            "text/plain": [
              "Female    2994\n",
              "Male      2115\n",
              "Other        1\n",
              "Name: gender, dtype: int64"
            ]
          },
          "metadata": {},
          "execution_count": 16
        }
      ]
    },
    {
      "cell_type": "code",
      "source": [
        "stroke_df['ever_married'].value_counts()"
      ],
      "metadata": {
        "colab": {
          "base_uri": "https://localhost:8080/"
        },
        "id": "xH2Zfa7Fntkh",
        "outputId": "2c037a9d-a8be-4386-9c60-2665613986ad"
      },
      "execution_count": null,
      "outputs": [
        {
          "output_type": "execute_result",
          "data": {
            "text/plain": [
              "Yes    3353\n",
              "No     1757\n",
              "Name: ever_married, dtype: int64"
            ]
          },
          "metadata": {},
          "execution_count": 17
        }
      ]
    },
    {
      "cell_type": "code",
      "source": [
        "stroke_df['Residence_type'].value_counts()"
      ],
      "metadata": {
        "colab": {
          "base_uri": "https://localhost:8080/"
        },
        "id": "o69T_5A3nyCe",
        "outputId": "98e25553-7892-418a-f7f5-49f45c82c92d"
      },
      "execution_count": null,
      "outputs": [
        {
          "output_type": "execute_result",
          "data": {
            "text/plain": [
              "Urban    2596\n",
              "Rural    2514\n",
              "Name: Residence_type, dtype: int64"
            ]
          },
          "metadata": {},
          "execution_count": 18
        }
      ]
    },
    {
      "cell_type": "code",
      "source": [
        "stroke_df['smoking_status'].value_counts()"
      ],
      "metadata": {
        "colab": {
          "base_uri": "https://localhost:8080/"
        },
        "id": "2DE7gUBJn3se",
        "outputId": "c4b74921-6cc9-40f3-8634-a796b382bf37"
      },
      "execution_count": null,
      "outputs": [
        {
          "output_type": "execute_result",
          "data": {
            "text/plain": [
              "never smoked       1892\n",
              "Unknown            1544\n",
              "formerly smoked     885\n",
              "smokes              789\n",
              "Name: smoking_status, dtype: int64"
            ]
          },
          "metadata": {},
          "execution_count": 19
        }
      ]
    },
    {
      "cell_type": "code",
      "source": [
        "stroke_df['work_type'].value_counts()"
      ],
      "metadata": {
        "colab": {
          "base_uri": "https://localhost:8080/"
        },
        "id": "USEBCMT4ogtx",
        "outputId": "8816d17b-8537-40a8-f8f6-9c582c6d12a9"
      },
      "execution_count": null,
      "outputs": [
        {
          "output_type": "execute_result",
          "data": {
            "text/plain": [
              "Private          2925\n",
              "Self-employed     819\n",
              "children          687\n",
              "Govt_job          657\n",
              "Never_worked       22\n",
              "Name: work_type, dtype: int64"
            ]
          },
          "metadata": {},
          "execution_count": 20
        }
      ]
    },
    {
      "cell_type": "code",
      "source": [
        "#Checking for impossible values\n",
        "stroke_df.describe()"
      ],
      "metadata": {
        "colab": {
          "base_uri": "https://localhost:8080/",
          "height": 300
        },
        "id": "KDdDucpsoDZg",
        "outputId": "f507c30c-687c-46d2-8a9a-62855a9e39b5"
      },
      "execution_count": null,
      "outputs": [
        {
          "output_type": "execute_result",
          "data": {
            "text/plain": [
              "               age  hypertension  heart_disease  avg_glucose_level  \\\n",
              "count  5110.000000   5110.000000    5110.000000        5110.000000   \n",
              "mean     43.226614      0.097456       0.054012         106.147677   \n",
              "std      22.612647      0.296607       0.226063          45.283560   \n",
              "min       0.080000      0.000000       0.000000          55.120000   \n",
              "25%      25.000000      0.000000       0.000000          77.245000   \n",
              "50%      45.000000      0.000000       0.000000          91.885000   \n",
              "75%      61.000000      0.000000       0.000000         114.090000   \n",
              "max      82.000000      1.000000       1.000000         271.740000   \n",
              "\n",
              "               bmi       stroke  \n",
              "count  4909.000000  5110.000000  \n",
              "mean     28.893237     0.048728  \n",
              "std       7.854067     0.215320  \n",
              "min      10.300000     0.000000  \n",
              "25%      23.500000     0.000000  \n",
              "50%      28.100000     0.000000  \n",
              "75%      33.100000     0.000000  \n",
              "max      97.600000     1.000000  "
            ],
            "text/html": [
              "\n",
              "  <div id=\"df-447ba594-2d75-4851-a37a-2bae5f2e3c4e\">\n",
              "    <div class=\"colab-df-container\">\n",
              "      <div>\n",
              "<style scoped>\n",
              "    .dataframe tbody tr th:only-of-type {\n",
              "        vertical-align: middle;\n",
              "    }\n",
              "\n",
              "    .dataframe tbody tr th {\n",
              "        vertical-align: top;\n",
              "    }\n",
              "\n",
              "    .dataframe thead th {\n",
              "        text-align: right;\n",
              "    }\n",
              "</style>\n",
              "<table border=\"1\" class=\"dataframe\">\n",
              "  <thead>\n",
              "    <tr style=\"text-align: right;\">\n",
              "      <th></th>\n",
              "      <th>age</th>\n",
              "      <th>hypertension</th>\n",
              "      <th>heart_disease</th>\n",
              "      <th>avg_glucose_level</th>\n",
              "      <th>bmi</th>\n",
              "      <th>stroke</th>\n",
              "    </tr>\n",
              "  </thead>\n",
              "  <tbody>\n",
              "    <tr>\n",
              "      <th>count</th>\n",
              "      <td>5110.000000</td>\n",
              "      <td>5110.000000</td>\n",
              "      <td>5110.000000</td>\n",
              "      <td>5110.000000</td>\n",
              "      <td>4909.000000</td>\n",
              "      <td>5110.000000</td>\n",
              "    </tr>\n",
              "    <tr>\n",
              "      <th>mean</th>\n",
              "      <td>43.226614</td>\n",
              "      <td>0.097456</td>\n",
              "      <td>0.054012</td>\n",
              "      <td>106.147677</td>\n",
              "      <td>28.893237</td>\n",
              "      <td>0.048728</td>\n",
              "    </tr>\n",
              "    <tr>\n",
              "      <th>std</th>\n",
              "      <td>22.612647</td>\n",
              "      <td>0.296607</td>\n",
              "      <td>0.226063</td>\n",
              "      <td>45.283560</td>\n",
              "      <td>7.854067</td>\n",
              "      <td>0.215320</td>\n",
              "    </tr>\n",
              "    <tr>\n",
              "      <th>min</th>\n",
              "      <td>0.080000</td>\n",
              "      <td>0.000000</td>\n",
              "      <td>0.000000</td>\n",
              "      <td>55.120000</td>\n",
              "      <td>10.300000</td>\n",
              "      <td>0.000000</td>\n",
              "    </tr>\n",
              "    <tr>\n",
              "      <th>25%</th>\n",
              "      <td>25.000000</td>\n",
              "      <td>0.000000</td>\n",
              "      <td>0.000000</td>\n",
              "      <td>77.245000</td>\n",
              "      <td>23.500000</td>\n",
              "      <td>0.000000</td>\n",
              "    </tr>\n",
              "    <tr>\n",
              "      <th>50%</th>\n",
              "      <td>45.000000</td>\n",
              "      <td>0.000000</td>\n",
              "      <td>0.000000</td>\n",
              "      <td>91.885000</td>\n",
              "      <td>28.100000</td>\n",
              "      <td>0.000000</td>\n",
              "    </tr>\n",
              "    <tr>\n",
              "      <th>75%</th>\n",
              "      <td>61.000000</td>\n",
              "      <td>0.000000</td>\n",
              "      <td>0.000000</td>\n",
              "      <td>114.090000</td>\n",
              "      <td>33.100000</td>\n",
              "      <td>0.000000</td>\n",
              "    </tr>\n",
              "    <tr>\n",
              "      <th>max</th>\n",
              "      <td>82.000000</td>\n",
              "      <td>1.000000</td>\n",
              "      <td>1.000000</td>\n",
              "      <td>271.740000</td>\n",
              "      <td>97.600000</td>\n",
              "      <td>1.000000</td>\n",
              "    </tr>\n",
              "  </tbody>\n",
              "</table>\n",
              "</div>\n",
              "      <button class=\"colab-df-convert\" onclick=\"convertToInteractive('df-447ba594-2d75-4851-a37a-2bae5f2e3c4e')\"\n",
              "              title=\"Convert this dataframe to an interactive table.\"\n",
              "              style=\"display:none;\">\n",
              "        \n",
              "  <svg xmlns=\"http://www.w3.org/2000/svg\" height=\"24px\"viewBox=\"0 0 24 24\"\n",
              "       width=\"24px\">\n",
              "    <path d=\"M0 0h24v24H0V0z\" fill=\"none\"/>\n",
              "    <path d=\"M18.56 5.44l.94 2.06.94-2.06 2.06-.94-2.06-.94-.94-2.06-.94 2.06-2.06.94zm-11 1L8.5 8.5l.94-2.06 2.06-.94-2.06-.94L8.5 2.5l-.94 2.06-2.06.94zm10 10l.94 2.06.94-2.06 2.06-.94-2.06-.94-.94-2.06-.94 2.06-2.06.94z\"/><path d=\"M17.41 7.96l-1.37-1.37c-.4-.4-.92-.59-1.43-.59-.52 0-1.04.2-1.43.59L10.3 9.45l-7.72 7.72c-.78.78-.78 2.05 0 2.83L4 21.41c.39.39.9.59 1.41.59.51 0 1.02-.2 1.41-.59l7.78-7.78 2.81-2.81c.8-.78.8-2.07 0-2.86zM5.41 20L4 18.59l7.72-7.72 1.47 1.35L5.41 20z\"/>\n",
              "  </svg>\n",
              "      </button>\n",
              "      \n",
              "  <style>\n",
              "    .colab-df-container {\n",
              "      display:flex;\n",
              "      flex-wrap:wrap;\n",
              "      gap: 12px;\n",
              "    }\n",
              "\n",
              "    .colab-df-convert {\n",
              "      background-color: #E8F0FE;\n",
              "      border: none;\n",
              "      border-radius: 50%;\n",
              "      cursor: pointer;\n",
              "      display: none;\n",
              "      fill: #1967D2;\n",
              "      height: 32px;\n",
              "      padding: 0 0 0 0;\n",
              "      width: 32px;\n",
              "    }\n",
              "\n",
              "    .colab-df-convert:hover {\n",
              "      background-color: #E2EBFA;\n",
              "      box-shadow: 0px 1px 2px rgba(60, 64, 67, 0.3), 0px 1px 3px 1px rgba(60, 64, 67, 0.15);\n",
              "      fill: #174EA6;\n",
              "    }\n",
              "\n",
              "    [theme=dark] .colab-df-convert {\n",
              "      background-color: #3B4455;\n",
              "      fill: #D2E3FC;\n",
              "    }\n",
              "\n",
              "    [theme=dark] .colab-df-convert:hover {\n",
              "      background-color: #434B5C;\n",
              "      box-shadow: 0px 1px 3px 1px rgba(0, 0, 0, 0.15);\n",
              "      filter: drop-shadow(0px 1px 2px rgba(0, 0, 0, 0.3));\n",
              "      fill: #FFFFFF;\n",
              "    }\n",
              "  </style>\n",
              "\n",
              "      <script>\n",
              "        const buttonEl =\n",
              "          document.querySelector('#df-447ba594-2d75-4851-a37a-2bae5f2e3c4e button.colab-df-convert');\n",
              "        buttonEl.style.display =\n",
              "          google.colab.kernel.accessAllowed ? 'block' : 'none';\n",
              "\n",
              "        async function convertToInteractive(key) {\n",
              "          const element = document.querySelector('#df-447ba594-2d75-4851-a37a-2bae5f2e3c4e');\n",
              "          const dataTable =\n",
              "            await google.colab.kernel.invokeFunction('convertToInteractive',\n",
              "                                                     [key], {});\n",
              "          if (!dataTable) return;\n",
              "\n",
              "          const docLinkHtml = 'Like what you see? Visit the ' +\n",
              "            '<a target=\"_blank\" href=https://colab.research.google.com/notebooks/data_table.ipynb>data table notebook</a>'\n",
              "            + ' to learn more about interactive tables.';\n",
              "          element.innerHTML = '';\n",
              "          dataTable['output_type'] = 'display_data';\n",
              "          await google.colab.output.renderOutput(dataTable, element);\n",
              "          const docLink = document.createElement('div');\n",
              "          docLink.innerHTML = docLinkHtml;\n",
              "          element.appendChild(docLink);\n",
              "        }\n",
              "      </script>\n",
              "    </div>\n",
              "  </div>\n",
              "  "
            ]
          },
          "metadata": {},
          "execution_count": 21
        }
      ]
    },
    {
      "cell_type": "markdown",
      "source": [
        "## Exploratory Visuals"
      ],
      "metadata": {
        "id": "FDYdFs19qWMX"
      }
    },
    {
      "cell_type": "code",
      "source": [
        "sns.boxplot(data = stroke_df, x = 'avg_glucose_level');"
      ],
      "metadata": {
        "colab": {
          "base_uri": "https://localhost:8080/",
          "height": 280
        },
        "id": "lxAMN89XqYgi",
        "outputId": "646ebd09-ca2f-4e17-961c-dedf793e00f1"
      },
      "execution_count": 22,
      "outputs": [
        {
          "output_type": "display_data",
          "data": {
            "text/plain": [
              "<Figure size 432x288 with 1 Axes>"
            ],
            "image/png": "[encoded data removed]"
          },
          "metadata": {
            "needs_background": "light"
          }
        }
      ]
    },
    {
      "cell_type": "markdown",
      "source": [
        "- This is a boxplot showing the distribution of the average glucose level of patients. The median is about 75. There are outliers in this column that need to be removed.  \n"
      ],
      "metadata": {
        "id": "zdyNm23Lqr15"
      }
    },
    {
      "cell_type": "code",
      "source": [
        "#Check for outliers\n",
        "print(np.where(stroke_df['avg_glucose_level']>170))"
      ],
      "metadata": {
        "colab": {
          "base_uri": "https://localhost:8080/"
        },
        "id": "JNzTn-riq2k5",
        "outputId": "80948ae7-4433-4dfd-99b7-b617a8b99308"
      },
      "execution_count": 23,
      "outputs": [
        {
          "output_type": "stream",
          "name": "stdout",
          "text": [
            "(array([   0,    1,    3,    4,    5,   13,   14,   16,   17,   19,   20,\n",
            "         21,   22,   23,   27,   28,   29,   30,   32,   33,   36,   44,\n",
            "         45,   54,   55,   57,   58,   59,   60,   66,   71,   73,   76,\n",
            "         90,   95,   97,  101,  102,  107,  113,  115,  122,  123,  124,\n",
            "        128,  130,  132,  134,  135,  137,  138,  139,  144,  149,  151,\n",
            "        155,  157,  158,  163,  175,  179,  187,  189,  190,  193,  195,\n",
            "        196,  201,  212,  215,  217,  218,  219,  220,  222,  225,  226,\n",
            "        233,  234,  235,  241,  242,  243,  254,  256,  258,  272,  277,\n",
            "        278,  293,  298,  303,  307,  314,  318,  325,  326,  330,  331,\n",
            "        332,  337,  343,  350,  355,  360,  365,  386,  396,  399,  411,\n",
            "        417,  426,  429,  433,  436,  444,  456,  466,  467,  468,  477,\n",
            "        479,  492,  515,  544,  549,  551,  552,  559,  563,  570,  576,\n",
            "        581,  583,  585,  595,  598,  599,  610,  616,  620,  642,  706,\n",
            "        708,  719,  744,  746,  755,  762,  770,  785,  816,  846,  848,\n",
            "        851,  865,  867,  880,  887,  894,  923,  929,  930,  946,  948,\n",
            "        970,  971, 1011, 1059, 1061, 1067, 1070, 1071, 1092, 1097, 1102,\n",
            "       1104, 1113, 1118, 1131, 1158, 1166, 1173, 1178, 1187, 1189, 1200,\n",
            "       1202, 1207, 1214, 1225, 1228, 1233, 1245, 1250, 1257, 1277, 1282,\n",
            "       1300, 1309, 1319, 1322, 1339, 1343, 1346, 1379, 1382, 1384, 1398,\n",
            "       1411, 1412, 1414, 1436, 1453, 1457, 1468, 1472, 1474, 1485, 1487,\n",
            "       1497, 1503, 1512, 1526, 1529, 1531, 1533, 1534, 1535, 1540, 1547,\n",
            "       1553, 1588, 1596, 1598, 1607, 1626, 1627, 1628, 1650, 1654, 1655,\n",
            "       1659, 1667, 1675, 1681, 1698, 1704, 1711, 1718, 1723, 1732, 1737,\n",
            "       1756, 1759, 1769, 1778, 1780, 1782, 1795, 1798, 1816, 1820, 1827,\n",
            "       1837, 1840, 1841, 1843, 1853, 1862, 1873, 1880, 1888, 1889, 1892,\n",
            "       1893, 1898, 1905, 1952, 1971, 1981, 1995, 2004, 2018, 2044, 2059,\n",
            "       2067, 2069, 2079, 2081, 2089, 2096, 2102, 2107, 2124, 2126, 2129,\n",
            "       2132, 2135, 2149, 2158, 2161, 2168, 2169, 2180, 2182, 2185, 2200,\n",
            "       2201, 2203, 2223, 2228, 2240, 2255, 2257, 2273, 2282, 2284, 2290,\n",
            "       2291, 2292, 2293, 2294, 2303, 2307, 2318, 2332, 2336, 2338, 2365,\n",
            "       2374, 2383, 2395, 2418, 2429, 2439, 2453, 2455, 2459, 2462, 2469,\n",
            "       2486, 2493, 2494, 2515, 2520, 2523, 2532, 2540, 2544, 2548, 2553,\n",
            "       2565, 2569, 2578, 2583, 2599, 2600, 2609, 2612, 2624, 2629, 2633,\n",
            "       2641, 2661, 2675, 2676, 2679, 2682, 2685, 2686, 2690, 2693, 2697,\n",
            "       2699, 2707, 2710, 2734, 2751, 2752, 2757, 2768, 2846, 2848, 2849,\n",
            "       2855, 2866, 2867, 2880, 2890, 2893, 2918, 2928, 2934, 2947, 2957,\n",
            "       2960, 2966, 2981, 2992, 2997, 3005, 3008, 3014, 3017, 3054, 3060,\n",
            "       3069, 3074, 3088, 3130, 3146, 3148, 3150, 3152, 3157, 3161, 3186,\n",
            "       3197, 3198, 3215, 3221, 3234, 3238, 3243, 3252, 3306, 3318, 3327,\n",
            "       3342, 3350, 3360, 3375, 3376, 3378, 3381, 3387, 3391, 3393, 3406,\n",
            "       3425, 3427, 3439, 3455, 3461, 3462, 3478, 3480, 3489, 3500, 3507,\n",
            "       3510, 3517, 3522, 3536, 3537, 3548, 3564, 3578, 3587, 3594, 3599,\n",
            "       3600, 3606, 3625, 3627, 3630, 3637, 3643, 3658, 3674, 3686, 3688,\n",
            "       3699, 3700, 3718, 3734, 3753, 3756, 3771, 3772, 3779, 3780, 3781,\n",
            "       3788, 3802, 3833, 3882, 3889, 3892, 3905, 3909, 3913, 3925, 3931,\n",
            "       3943, 3956, 3959, 3962, 3964, 3965, 3980, 3982, 3994, 4008, 4022,\n",
            "       4028, 4037, 4046, 4048, 4051, 4054, 4096, 4104, 4123, 4129, 4132,\n",
            "       4164, 4176, 4201, 4207, 4240, 4249, 4261, 4274, 4283, 4286, 4290,\n",
            "       4291, 4304, 4311, 4321, 4324, 4325, 4327, 4329, 4335, 4339, 4344,\n",
            "       4356, 4360, 4366, 4376, 4377, 4390, 4434, 4437, 4446, 4447, 4453,\n",
            "       4457, 4470, 4475, 4497, 4500, 4504, 4505, 4507, 4514, 4515, 4530,\n",
            "       4539, 4560, 4577, 4578, 4582, 4588, 4589, 4598, 4616, 4625, 4627,\n",
            "       4628, 4636, 4654, 4665, 4684, 4696, 4702, 4708, 4711, 4724, 4737,\n",
            "       4738, 4739, 4740, 4750, 4763, 4809, 4816, 4823, 4836, 4855, 4861,\n",
            "       4869, 4883, 4895, 4899, 4909, 4921, 4925, 4941, 4952, 4955, 4983,\n",
            "       4984, 4986, 4987, 4995, 5001, 5006, 5019, 5029, 5034, 5035, 5041,\n",
            "       5048, 5061, 5062, 5063, 5064, 5076]),)\n"
          ]
        }
      ]
    },
    {
      "cell_type": "code",
      "source": [
        "#Drop rows with outliers\n",
        "stroke_df.drop([0,    1,    3,    4,    5,   13,   14,   16,   17,   19,   20,\n",
        "         21,   22,   23,   27,   28,   29,   30,   32,   33,   36,   44,\n",
        "         45,   54,   55,   57,   58,   59,   60,   66,   71,   73,   76,\n",
        "         90,   95,   97,  101,  102,  107,  113,  115,  122,  123,  124,\n",
        "        128,  130,  132,  134,  135,  137,  138,  139,  144,  149,  151,\n",
        "        155,  157,  158,  163,  175,  179,  187,  189,  190,  193,  195,\n",
        "        196,  201,  212,  215,  217,  218,  219,  220,  222,  225,  226,\n",
        "        233,  234,  235,  241,  242,  243,  254,  256,  258,  272,  277,\n",
        "        278,  293,  298,  303,  307,  314,  318,  325,  326,  330,  331,\n",
        "        332,  337,  343,  350,  355,  360,  365,  386,  396,  399,  411,\n",
        "        417,  426,  429,  433,  436,  444,  456,  466,  467,  468,  477,\n",
        "        479,  492,  515,  544,  549,  551,  552,  559,  563,  570,  576,\n",
        "        581,  583,  585,  595,  598,  599,  610,  616,  620,  642,  706,\n",
        "        708,  719,  744,  746,  755,  762,  770,  785,  816,  846,  848,\n",
        "        851,  865,  867,  880,  887,  894,  923,  929,  930,  946,  948,\n",
        "        970,  971, 1011, 1059, 1061, 1067, 1070, 1071, 1092, 1097, 1102,\n",
        "       1104, 1113, 1118, 1131, 1158, 1166, 1173, 1178, 1187, 1189, 1200,\n",
        "       1202, 1207, 1214, 1225, 1228, 1233, 1245, 1250, 1257, 1277, 1282,\n",
        "       1300, 1309, 1319, 1322, 1339, 1343, 1346, 1379, 1382, 1384, 1398,\n",
        "       1411, 1412, 1414, 1436, 1453, 1457, 1468, 1472, 1474, 1485, 1487,\n",
        "       1497, 1503, 1512, 1526, 1529, 1531, 1533, 1534, 1535, 1540, 1547,\n",
        "       1553, 1588, 1596, 1598, 1607, 1626, 1627, 1628, 1650, 1654, 1655,\n",
        "       1659, 1667, 1675, 1681, 1698, 1704, 1711, 1718, 1723, 1732, 1737,\n",
        "       1756, 1759, 1769, 1778, 1780, 1782, 1795, 1798, 1816, 1820, 1827,\n",
        "       1837, 1840, 1841, 1843, 1853, 1862, 1873, 1880, 1888, 1889, 1892,\n",
        "       1893, 1898, 1905, 1952, 1971, 1981, 1995, 2004, 2018, 2044, 2059,\n",
        "       2067, 2069, 2079, 2081, 2089, 2096, 2102, 2107, 2124, 2126, 2129,\n",
        "       2132, 2135, 2149, 2158, 2161, 2168, 2169, 2180, 2182, 2185, 2200,\n",
        "       2201, 2203, 2223, 2228, 2240, 2255, 2257, 2273, 2282, 2284, 2290,\n",
        "       2291, 2292, 2293, 2294, 2303, 2307, 2318, 2332, 2336, 2338, 2365,\n",
        "       2374, 2383, 2395, 2418, 2429, 2439, 2453, 2455, 2459, 2462, 2469,\n",
        "       2486, 2493, 2494, 2515, 2520, 2523, 2532, 2540, 2544, 2548, 2553,\n",
        "       2565, 2569, 2578, 2583, 2599, 2600, 2609, 2612, 2624, 2629, 2633,\n",
        "       2641, 2661, 2675, 2676, 2679, 2682, 2685, 2686, 2690, 2693, 2697,\n",
        "       2699, 2707, 2710, 2734, 2751, 2752, 2757, 2768, 2846, 2848, 2849,\n",
        "       2855, 2866, 2867, 2880, 2890, 2893, 2918, 2928, 2934, 2947, 2957,\n",
        "       2960, 2966, 2981, 2992, 2997, 3005, 3008, 3014, 3017, 3054, 3060,\n",
        "       3069, 3074, 3088, 3130, 3146, 3148, 3150, 3152, 3157, 3161, 3186,\n",
        "       3197, 3198, 3215, 3221, 3234, 3238, 3243, 3252, 3306, 3318, 3327,\n",
        "       3342, 3350, 3360, 3375, 3376, 3378, 3381, 3387, 3391, 3393, 3406,\n",
        "       3425, 3427, 3439, 3455, 3461, 3462, 3478, 3480, 3489, 3500, 3507,\n",
        "       3510, 3517, 3522, 3536, 3537, 3548, 3564, 3578, 3587, 3594, 3599,\n",
        "       3600, 3606, 3625, 3627, 3630, 3637, 3643, 3658, 3674, 3686, 3688,\n",
        "       3699, 3700, 3718, 3734, 3753, 3756, 3771, 3772, 3779, 3780, 3781,\n",
        "       3788, 3802, 3833, 3882, 3889, 3892, 3905, 3909, 3913, 3925, 3931,\n",
        "       3943, 3956, 3959, 3962, 3964, 3965, 3980, 3982, 3994, 4008, 4022,\n",
        "       4028, 4037, 4046, 4048, 4051, 4054, 4096, 4104, 4123, 4129, 4132,\n",
        "       4164, 4176, 4201, 4207, 4240, 4249, 4261, 4274, 4283, 4286, 4290,\n",
        "       4291, 4304, 4311, 4321, 4324, 4325, 4327, 4329, 4335, 4339, 4344,\n",
        "       4356, 4360, 4366, 4376, 4377, 4390, 4434, 4437, 4446, 4447, 4453,\n",
        "       4457, 4470, 4475, 4497, 4500, 4504, 4505, 4507, 4514, 4515, 4530,\n",
        "       4539, 4560, 4577, 4578, 4582, 4588, 4589, 4598, 4616, 4625, 4627,\n",
        "       4628, 4636, 4654, 4665, 4684, 4696, 4702, 4708, 4711, 4724, 4737,\n",
        "       4738, 4739, 4740, 4750, 4763, 4809, 4816, 4823, 4836, 4855, 4861,\n",
        "       4869, 4883, 4895, 4899, 4909, 4921, 4925, 4941, 4952, 4955, 4983,\n",
        "       4984, 4986, 4987, 4995, 5001, 5006, 5019, 5029, 5034, 5035, 5041,\n",
        "       5048, 5061, 5062, 5063, 5064, 5076],  inplace = True)"
      ],
      "metadata": {
        "id": "PDn4mmmGrE_7"
      },
      "execution_count": 27,
      "outputs": []
    },
    {
      "cell_type": "code",
      "source": [
        "#Creating a box plot for bmi\n",
        "sns.boxplot(data = stroke_df, x = 'bmi');"
      ],
      "metadata": {
        "colab": {
          "base_uri": "https://localhost:8080/",
          "height": 279
        },
        "id": "hqyeH85Qro2a",
        "outputId": "9404244e-5a50-4b44-91b9-ecf2de90ca56"
      },
      "execution_count": 32,
      "outputs": [
        {
          "output_type": "display_data",
          "data": {
            "text/plain": [
              "<Figure size 432x288 with 1 Axes>"
            ],
            "image/png": "[encoded data removed]"
          },
          "metadata": {
            "needs_background": "light"
          }
        }
      ]
    },
    {
      "cell_type": "markdown",
      "source": [
        "- This is a boxplot showing the distribution of the bmi of patients. The median is about 27. There are outliers in this column that need to be removed."
      ],
      "metadata": {
        "id": "_LS9DNnwr8OY"
      }
    },
    {
      "cell_type": "code",
      "source": [
        "np.set_printoptions(threshold=sys.maxsize)"
      ],
      "metadata": {
        "id": "YwEeB658sz93"
      },
      "execution_count": 37,
      "outputs": []
    },
    {
      "cell_type": "code",
      "source": [
        "print(np.where(stroke_df['bmi']>44))"
      ],
      "metadata": {
        "colab": {
          "base_uri": "https://localhost:8080/"
        },
        "id": "01AfbFIosFsZ",
        "outputId": "8a52148a-f2b8-467f-d417-6daa742ee9ff"
      },
      "execution_count": 40,
      "outputs": [
        {
          "output_type": "stream",
          "name": "stdout",
          "text": [
            "(array([  46,   47,  116,  184,  233,  240,  254,  262,  281,  305,  317,\n",
            "        340,  345,  370,  396,  415,  481,  496,  520,  530,  571,  613,\n",
            "        654,  682,  705,  767,  836,  837,  840,  848,  902,  904,  905,\n",
            "       1046, 1070, 1071, 1085, 1092, 1105, 1115, 1242, 1280, 1306, 1327,\n",
            "       1332, 1343, 1352, 1362, 1402, 1417, 1442, 1667, 1707, 1719, 1733,\n",
            "       1783, 1832, 1837, 1898, 1920, 1950, 1961, 1974, 1984, 2004, 2044,\n",
            "       2061, 2078, 2105, 2113, 2118, 2195, 2203, 2214, 2229, 2282, 2312,\n",
            "       2346, 2383, 2433, 2457, 2458, 2494, 2505, 2592, 2619, 2797, 2879,\n",
            "       2904, 2914, 3057, 3085, 3109, 3128, 3227, 3339, 3375, 3380, 3392,\n",
            "       3427, 3528, 3559, 3611, 3637, 3668, 3669, 3688, 3702, 3704, 3756,\n",
            "       3761, 3808, 3812, 3837, 3860, 3862, 3906, 3972, 3995, 4008, 4042,\n",
            "       4076, 4114, 4125, 4191, 4246, 4255, 4265, 4298, 4308, 4372, 4398,\n",
            "       4404, 4440, 4481]),)\n"
          ]
        }
      ]
    },
    {
      "cell_type": "code",
      "source": [
        "# Dropping rows with outliers\n",
        "stroke_df.drop([ 46,   47,  116,  184,  240,  262,  281,  305,  317,\n",
        "        340,  345,  370,  415,  481,  496,  520,  530,  571,  613,\n",
        "        654,  682,  705,  767,  836,  837,  840,  902,  904,  905,\n",
        "       1046, 1085, 1105, 1115, 1242, 1280, 1306, 1327,\n",
        "       1332, 1352, 1362, 1402, 1417, 1442, 1707, 1719, 1733,\n",
        "       1783, 1832, 1920, 1950, 1961, 1974, 1984,\n",
        "       2061, 2078, 2105, 2113, 2118, 2195, 2214, 2229, 2312,\n",
        "       2346, 2433, 2457, 2458, 2505, 2592, 2619, 2797, 2879,\n",
        "       2904, 2914, 3057, 3085, 3109, 3128, 3227, 3339, 3380, 3392,\n",
        "       3528, 3559, 3611, 3668, 3669, 3702, 3704,\n",
        "       3761, 3808, 3812, 3837, 3860, 3862, 3906, 3972, 3995, 4042,\n",
        "       4076, 4114, 4125, 4191, 4246, 4255, 4265, 4298, 4308, 4372, 4398,\n",
        "       4404, 4440, 4481],  inplace = True)"
      ],
      "metadata": {
        "id": "o-QwrzyGtKCO"
      },
      "execution_count": 42,
      "outputs": []
    },
    {
      "cell_type": "code",
      "source": [
        "sns.boxplot(data = stroke_df, x = 'age');"
      ],
      "metadata": {
        "colab": {
          "base_uri": "https://localhost:8080/",
          "height": 279
        },
        "id": "s_N_qiLqHRBD",
        "outputId": "0c89cce8-f50a-4cbf-a0a4-769945899d42"
      },
      "execution_count": 43,
      "outputs": [
        {
          "output_type": "display_data",
          "data": {
            "text/plain": [
              "<Figure size 432x288 with 1 Axes>"
            ],
            "image/png": "[encoded data removed]"
          },
          "metadata": {
            "needs_background": "light"
          }
        }
      ]
    },
    {
      "cell_type": "markdown",
      "source": [
        "- This is a boxplot showing the distribution of ages of the patients in the dataset. The median age is 41"
      ],
      "metadata": {
        "id": "Ggp2S-k9HesU"
      }
    },
    {
      "cell_type": "code",
      "source": [
        "sns.countplot(data = stroke_df, y = 'gender');"
      ],
      "metadata": {
        "colab": {
          "base_uri": "https://localhost:8080/",
          "height": 279
        },
        "id": "i3eK-_MIHq7y",
        "outputId": "9c6800bc-7ca8-4c87-930f-e4f2b560f619"
      },
      "execution_count": 48,
      "outputs": [
        {
          "output_type": "display_data",
          "data": {
            "text/plain": [
              "<Figure size 432x288 with 1 Axes>"
            ],
            "image/png": "[encoded data removed]"
          },
          "metadata": {
            "needs_background": "light"
          }
        }
      ]
    },
    {
      "cell_type": "markdown",
      "source": [
        "- This is a countplot showing the counts of each gender in the dataset. There are more females than males in the data. "
      ],
      "metadata": {
        "id": "CKTFn5QyIBTs"
      }
    },
    {
      "cell_type": "code",
      "source": [
        "sns.countplot(data = stroke_df, y = 'hypertension');"
      ],
      "metadata": {
        "colab": {
          "base_uri": "https://localhost:8080/",
          "height": 279
        },
        "id": "lIWD-FJTINf9",
        "outputId": "fe0e9528-4ce7-4b82-e18a-556bff85ecd9"
      },
      "execution_count": 49,
      "outputs": [
        {
          "output_type": "display_data",
          "data": {
            "text/plain": [
              "<Figure size 432x288 with 1 Axes>"
            ],
            "image/png": "[encoded data removed]"
          },
          "metadata": {
            "needs_background": "light"
          }
        }
      ]
    },
    {
      "cell_type": "markdown",
      "source": [
        "- This is a countplot showing the amount of patients in the dataset that have hypertension. The majority do not. "
      ],
      "metadata": {
        "id": "tbTGINLHISsB"
      }
    },
    {
      "cell_type": "code",
      "source": [
        "sns.countplot(data = stroke_df, y = 'heart_disease');"
      ],
      "metadata": {
        "colab": {
          "base_uri": "https://localhost:8080/",
          "height": 279
        },
        "id": "cYwd_--5IaMM",
        "outputId": "12d75350-926e-4a28-ee43-758257941446"
      },
      "execution_count": 51,
      "outputs": [
        {
          "output_type": "display_data",
          "data": {
            "text/plain": [
              "<Figure size 432x288 with 1 Axes>"
            ],
            "image/png": "[encoded data removed]"
          },
          "metadata": {
            "needs_background": "light"
          }
        }
      ]
    },
    {
      "cell_type": "markdown",
      "source": [
        "- This is a countplot showing the amount of patients in the dataset that have heart disease. The majority do not."
      ],
      "metadata": {
        "id": "Ushk7DsNIb9S"
      }
    },
    {
      "cell_type": "code",
      "source": [
        "sns.countplot(data = stroke_df, y = 'ever_married');"
      ],
      "metadata": {
        "colab": {
          "base_uri": "https://localhost:8080/",
          "height": 279
        },
        "id": "zHTj89wdIlsA",
        "outputId": "7ad966e9-20f1-42b6-886c-cca72dd9a6be"
      },
      "execution_count": 52,
      "outputs": [
        {
          "output_type": "display_data",
          "data": {
            "text/plain": [
              "<Figure size 432x288 with 1 Axes>"
            ],
            "image/png": "[encoded data removed]"
          },
          "metadata": {
            "needs_background": "light"
          }
        }
      ]
    },
    {
      "cell_type": "markdown",
      "source": [
        "- This is a countplot showing the amount of patients in the dataset that have been married. More have been married than have not. "
      ],
      "metadata": {
        "id": "XxlHA5WHImTV"
      }
    },
    {
      "cell_type": "code",
      "source": [
        "sns.countplot(data = stroke_df, y = 'work_type');"
      ],
      "metadata": {
        "colab": {
          "base_uri": "https://localhost:8080/",
          "height": 279
        },
        "id": "K9WNPdDEI4xg",
        "outputId": "f76585a0-fa10-4552-f016-95c2e14b0c64"
      },
      "execution_count": 53,
      "outputs": [
        {
          "output_type": "display_data",
          "data": {
            "text/plain": [
              "<Figure size 432x288 with 1 Axes>"
            ],
            "image/png": "[encoded data removed]"
          },
          "metadata": {
            "needs_background": "light"
          }
        }
      ]
    },
    {
      "cell_type": "markdown",
      "source": [
        "- This is a countplot showing the amount of patients in the dataset with different types of jobs. Patients most frequently work privately."
      ],
      "metadata": {
        "id": "8bLv-MgMI9ot"
      }
    },
    {
      "cell_type": "code",
      "source": [
        "sns.countplot(data = stroke_df, y = 'Residence_type');"
      ],
      "metadata": {
        "colab": {
          "base_uri": "https://localhost:8080/",
          "height": 279
        },
        "id": "SptoBLLeJQpM",
        "outputId": "d9049239-d8b7-48b6-be73-9b16cb9419d7"
      },
      "execution_count": 54,
      "outputs": [
        {
          "output_type": "display_data",
          "data": {
            "text/plain": [
              "<Figure size 432x288 with 1 Axes>"
            ],
            "image/png": "[encoded data removed]"
          },
          "metadata": {
            "needs_background": "light"
          }
        }
      ]
    },
    {
      "cell_type": "markdown",
      "source": [
        "- This is a countplot showing the amount of patients that live in an urban or rural area. There is an even split between both areas."
      ],
      "metadata": {
        "id": "RGBbrzqmJWti"
      }
    },
    {
      "cell_type": "code",
      "source": [
        "sns.countplot(data = stroke_df, y = 'smoking_status');"
      ],
      "metadata": {
        "colab": {
          "base_uri": "https://localhost:8080/",
          "height": 279
        },
        "id": "1OGmu_fXJiBg",
        "outputId": "579ec61f-4afb-4c69-b082-c76088656a3d"
      },
      "execution_count": 55,
      "outputs": [
        {
          "output_type": "display_data",
          "data": {
            "text/plain": [
              "<Figure size 432x288 with 1 Axes>"
            ],
            "image/png": "[encoded data removed]"
          },
          "metadata": {
            "needs_background": "light"
          }
        }
      ]
    },
    {
      "cell_type": "markdown",
      "source": [
        "- This is a countplot showing how many patients smoke or have smoked. There is a large amount patients with an unknown status in this area."
      ],
      "metadata": {
        "id": "xEulpERyJrxl"
      }
    },
    {
      "cell_type": "code",
      "source": [
        "sns.countplot(data = stroke_df, y = 'stroke');"
      ],
      "metadata": {
        "colab": {
          "base_uri": "https://localhost:8080/",
          "height": 279
        },
        "id": "t4iQW1SFKB7X",
        "outputId": "2513121d-3049-499d-b5d3-0a208a5925ba"
      },
      "execution_count": 56,
      "outputs": [
        {
          "output_type": "display_data",
          "data": {
            "text/plain": [
              "<Figure size 432x288 with 1 Axes>"
            ],
            "image/png": "[encoded data removed]"
          },
          "metadata": {
            "needs_background": "light"
          }
        }
      ]
    },
    {
      "cell_type": "markdown",
      "source": [
        "- This is a countplot showing the how many patients have had a stroke. The majority of patients have not had a stroke. This is my target column. "
      ],
      "metadata": {
        "id": "EA9ukivjKG5Y"
      }
    }
  ]
}